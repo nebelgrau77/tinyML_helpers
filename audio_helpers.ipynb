{
 "cells": [
  {
   "source": [
    "## TinyML keyword spotting helper functions\n",
    "Some functions useful for handling audio data, used in TinyML keyword spotting exercises."
   ],
   "cell_type": "markdown",
   "metadata": {}
  },
  {
   "cell_type": "markdown",
   "metadata": {},
   "source": [
    "### WAV file converter\n",
    "\n",
    "\n",
    "Convert WAV files to a chosen sample rate (`resampled_sr`) and/or to `mono`.\n",
    "\n",
    "How to use:\n",
    "\n",
    "```python\n",
    "wave_converter('my_file1.wav', mix2mono = True)\n",
    "'''output file \"resampled_my_file1.wav\", mono, 16000 Hz sample rate'''\n",
    "\n",
    "wave_converter('my_file2.wav', resampled_sr = 8000, prefix = \"small_\")\n",
    "'''output file \"small_my_file2.wav\", 8000 Hz sample rate, number of channels unchanged (e.g. a stereo file\n",
    "will remain stereo)'''\n",
    "```\n"
   ]
  },
  {
   "cell_type": "code",
   "execution_count": null,
   "metadata": {},
   "outputs": [],
   "source": [
    "import scipy.io.wavfile as wavfile\n",
    "import librosa\n",
    "\n",
    "def wave_converter(filename, resampled_sr=16000, prefix=\"resampled_\", mix2mono = False):\n",
    "\n",
    "    '''\n",
    "    Resample WAV soundfile to a different sample rate.\n",
    "    \n",
    "        Input: original sound file\n",
    "        Output: resampled sound file\n",
    "        Parameters: \n",
    "            - name of the file to be converted, \n",
    "            - destination sample rate, default = 16kHz\n",
    "            - prefix to identify resampled files\n",
    "            - mix to mono channel, default = False (leave as-is)\n",
    "            \n",
    "        Notes: for simplicity it needs to be run in the folder with the files we are converting\n",
    "    '''    \n",
    "    \n",
    "    resampled_file = prefix + filename \n",
    "    origin_sr, origin_data = wavfile.read(filename)\n",
    "    origin_type = origin_data.dtype\n",
    "    \n",
    "    resampled_data = librosa.resample(origin_data.T.astype('float'), origin_sr, resampled_sr) # transpose array to librosa shape\n",
    "    if mix2mono == True:\n",
    "        resampled_data = librosa.to_mono(resampled_data)        \n",
    "    resampled_data = resampled_data.T.astype(origin_type) # transpose back to scipy.io.wavfile shape\n",
    "    \n",
    "    wavfile.write(resampled_file, resampled_sr, resampled_data)\n",
    "    \n",
    "    print('Resampled wavefile saved to {}'.format(resampled_file))"
   ]
  },
  {
   "cell_type": "markdown",
   "metadata": {},
   "source": [
    "### Load audio file\n",
    "\n",
    "As I was having some problems with the HTML audio recoding code, I recorded my keyword samples with Audacity, \n",
    "and then upload them with this little snippet.\n",
    "\n",
    "How to use: \n",
    "\n",
    "```python\n",
    "audio, sr = get_audio('my_file.wav')\n",
    "```"
   ]
  },
  {
   "cell_type": "code",
   "execution_count": null,
   "metadata": {},
   "outputs": [],
   "source": [
    "from scipy.io.wavfile import read as wav_read\n",
    "def get_audio(file):\n",
    "    '''return sample rate and audio data'''\n",
    "    sr, audio = wav_read(file)\n",
    "    return audio, sr"
   ]
  },
  {
   "cell_type": "code",
   "execution_count": null,
   "metadata": {},
   "outputs": [],
   "source": []
  }
 ],
 "metadata": {
  "kernelspec": {
   "display_name": "Python 3",
   "language": "python",
   "name": "python3"
  },
  "language_info": {
   "codemirror_mode": {
    "name": "ipython",
    "version": 3
   },
   "file_extension": ".py",
   "mimetype": "text/x-python",
   "name": "python",
   "nbconvert_exporter": "python",
   "pygments_lexer": "ipython3",
   "version": "3.7.3-final"
  }
 },
 "nbformat": 4,
 "nbformat_minor": 4
}